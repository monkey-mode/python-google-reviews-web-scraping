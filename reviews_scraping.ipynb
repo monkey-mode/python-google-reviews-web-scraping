{
 "cells": [
  {
   "cell_type": "code",
   "execution_count": 108,
   "metadata": {},
   "outputs": [],
   "source": [
    "from selenium import webdriver\n",
    "from selenium.webdriver.common.by import By\n",
    "from selenium.webdriver.support.ui import WebDriverWait\n",
    "from selenium.webdriver.support import expected_conditions as EC\n",
    "from selenium.webdriver.chrome.service import Service\n",
    "from webdriver_manager.chrome import ChromeDriverManager\n",
    "from bs4 import BeautifulSoup\n",
    "import time"
   ]
  },
  {
   "cell_type": "code",
   "execution_count": 109,
   "metadata": {},
   "outputs": [],
   "source": [
    "# Initialize Chrome browser using WebDriver Manager\n",
    "driver = webdriver.Chrome(service=Service(ChromeDriverManager().install()))\n",
    "\n",
    "# Place URL (Google Maps with your specific place ID)\n",
    "url = 'https://www.google.com/maps/place/?q=place_id:ChIJ66xUOlyf4jARvMLE_hDQAX0&hl=en'\n",
    "\n",
    "# Load the page\n",
    "driver.get(url)\n",
    "\n",
    "# Allow the page to load\n",
    "time.sleep(5)"
   ]
  },
  {
   "cell_type": "code",
   "execution_count": 110,
   "metadata": {},
   "outputs": [],
   "source": [
    "# Click on the \"Reviews\" tab\n",
    "try:\n",
    "    reviews_tab = driver.find_element(By.XPATH, \"//button[contains(@aria-label, 'Reviews')]\")\n",
    "    reviews_tab.click()\n",
    "    time.sleep(3)  # Wait for the reviews tab to load\n",
    "except Exception as e:\n",
    "    print(f\"Error clicking Reviews tab: {e}\")\n",
    "    driver.quit()\n",
    "    exit()"
   ]
  },
  {
   "cell_type": "code",
   "execution_count": 111,
   "metadata": {},
   "outputs": [],
   "source": [
    "# Click on the \"Sort\" button to sort by \"Highest rating\"\n",
    "try:\n",
    "    # Locate the \"Sort\" button using its class name\n",
    "    sort_button = driver.find_element(By.XPATH, \"//button[contains(@aria-label, 'Sort reviews')]\")\n",
    "    sort_button.click()\n",
    "    time.sleep(2)  # Wait for the sort options to appear\n",
    "\n",
    "    # Select the entire \"Highest rating\" menu item\n",
    "    highest_rating_option = driver.find_element(By.CSS_SELECTOR, \"#action-menu > div:nth-child(3)\")\n",
    "    highest_rating_option.click()\n",
    "    time.sleep(3)  # Wait for the reviews to reload after sorting\n",
    "except Exception as e:\n",
    "    print(f\"Error sorting reviews: {e}\")\n",
    "    # driver.quit()\n",
    "    # exit()"
   ]
  },
  {
   "cell_type": "code",
   "execution_count": 120,
   "metadata": {},
   "outputs": [
    {
     "name": "stdout",
     "output_type": "stream",
     "text": [
      "New content loaded, continuing to scroll.\n",
      "Reached the bottom. Attempt 1\n"
     ]
    }
   ],
   "source": [
    "scroll_pause_time = 2\n",
    "\n",
    "# CSS selector for the scrollable element\n",
    "\n",
    "# Wait for the scrollable element to be present\n",
    "scrollable_element = WebDriverWait(driver, 10).until(\n",
    "    EC.presence_of_element_located((By.XPATH, \".//div[contains(@class, 'm6QErb DxyBCb kA9KIf dS8AEf XiKgde')]\"))\n",
    ")\n",
    "# Get initial scroll height\n",
    "last_height = driver.execute_script(\"return arguments[0].scrollHeight\", scrollable_element)\n",
    "\n",
    "\n",
    "def is_scrollbar_at_bottom(element):\n",
    "    # Check if scrollbar is at the bottom\n",
    "    return driver.execute_script(\"\"\"\n",
    "        var element = arguments[0];\n",
    "        return Math.abs(element.scrollHeight - element.scrollTop - element.clientHeight);\n",
    "    \"\"\", element)\n",
    "\n",
    "attempts = 0\n",
    "while True:\n",
    "    # Scroll to the bottom of the element\n",
    "    driver.execute_script(\"arguments[0].scrollTo(0, arguments[0].scrollHeight);\", scrollable_element)\n",
    "    time.sleep(scroll_pause_time)\n",
    "    \n",
    "    try:\n",
    "        more_buttons = scrollable_element.find_elements(By.XPATH, \".//button[contains(@aria-label, 'See more')]\")\n",
    "        for button in more_buttons:\n",
    "            driver.execute_script(\"arguments[0].scrollIntoView({block: 'center'});\", button)\n",
    "            button.click()\n",
    "            time.sleep(0.5)\n",
    "\n",
    "        translate_buttons = scrollable_element.find_elements(By.XPATH, \".//button[contains(@class, 'kyuRq') and contains(@jsaction, 'review.showReviewInTranslation')]\")\n",
    "        for button in translate_buttons:\n",
    "            driver.execute_script(\"arguments[0].scrollIntoView({block: 'center'});\", button)\n",
    "            button.click()\n",
    "            time.sleep(0.5)  # Short pause after each click\n",
    "    except:\n",
    "        pass  # Continue if no translation buttons are found\n",
    "    \n",
    "    time.sleep(2)\n",
    "    # Check if we've reached the end of the reviews\n",
    "    # Check if we've reached the bottom\n",
    "    if is_scrollbar_at_bottom(scrollable_element) != 0:\n",
    "        print(\"New content loaded, continuing to scroll.\")\n",
    "        attempts += 1\n",
    "    else:\n",
    "        print(f\"Reached the bottom. Attempt {attempts}\")\n",
    "        break\n",
    "\n",
    "    # Small pause to allow for any animations to complete\n",
    "    "
   ]
  },
  {
   "cell_type": "code",
   "execution_count": 121,
   "metadata": {},
   "outputs": [
    {
     "name": "stdout",
     "output_type": "stream",
     "text": [
      "[{'name': 'Hee Kim', 'image': 'https://lh3.googleusercontent.com/a/ACg8ocLErUHBRJuZBZvvV_BQXofR3ClcdvyPCiw7SQqqioNJ2vtFSg=w72-h72-p-rp-mo-ba4-br100', 'text': 'Good massage at a decent store. The only thing that can be improved is washing feet before massage.\\nDue to not washing my feet ahead of starting the massage, I felt a little bit uncomfortable(non-hygenic) during massage time.', 'rating': 5}, {'name': 'Noah Perry', 'image': 'https://lh3.googleusercontent.com/a/ACg8ocJ1o04O5zkEm6QQErp39v-p1HURivAA2dkiofEeUYlylyI9FQ=w72-h72-p-rp-mo-br100', 'text': 'Super nice massage place. Decent price (about 50 baht over average- but it’s 1000% worth it). You don’t really hear the noise of the busy road and you have privacy curtains, so u can relax without feeling like everyone’s staring at u. If you are looking for a relaxing foot, back, or full body massage this is the place!', 'rating': 5}, {'name': 'W L', 'image': 'https://lh3.googleusercontent.com/a/ACg8ocJt9YOpadJUeiDJ6JARfI809xA0pCoTVXN1SvJaLTou5lKQyH8=w72-h72-p-rp-mo-br100', 'text': 'Highly recommended !\\n\\nWe have visited this shop 3 times in our trip .It is a clean and comfortable massage shop in thong lor. The staff are very nice and professional especially KAI and LINLY. ❤️ They help me and my mum relieve our muscle pain . Will come back next time :)', 'rating': 5}, {'name': 'Pantip W.', 'image': 'https://lh3.googleusercontent.com/a/ACg8ocK2HoqZsXQOv2n-Q_KcY6Z3EBpqley-6vwicBwUQm5YRtChxOQ=w72-h72-p-rp-mo-br100', 'text': \"P'Pudda and P'Wilai massaged very well. They massaged to the point. When massaging, it hurt because it was in the tight spot. The massage after the massage was very comfortable. I come for a massage almost every week after exercising.\", 'rating': 5}, {'name': 'ปัทมา ไม่หวั่น', 'image': 'https://lh3.googleusercontent.com/a/ACg8ocLqppjDT8YqZ73osx4lCd9DiBg4eKIUnhuKDyGVgPmlKfzR0Q=w72-h72-p-rp-mo-br100', 'text': 'The shop is clean and the doctor is cute, gives good massage and gives good advice. If I have free time, I will come to massage again.', 'rating': 5}, {'name': 'Jonathan', 'image': 'https://lh3.googleusercontent.com/a-/ALV-UjVUp3JyyyfZFvtEp4YmG59NkBDkC9WDlCLlKipSKQPXzSrBurep=w72-h72-p-rp-mo-ba4-br100', 'text': 'Did foot massage for my first visit and Aromatherapy for my second visit. Good deal as it has promotion offers if you book online!\\nShopkeeper and staffs are friendly and welcoming.', 'rating': 5}, {'name': 'Kalajah567 Tsang', 'image': 'https://lh3.googleusercontent.com/a/ACg8ocIEl7fbSfB2WK0YZJSE0H5VEkM6zXg4AedpVBdhv_EAeZJivg=w72-h72-p-rp-mo-ba3-br100', 'text': 'I been here twice,first time with mu husband we had foot massage (It was great, very relaxing great super nice staff) and second time I been myself and had neck shoulders and back massage and again it was great! Top standard,  place looks little bit run down but staff is highly capable and professional very good with their job, great prices I would say under priced for level of massage you getting from these lovely ladies 🥰🥰👌👌', 'rating': 5}, {'name': 'Joanne Ong', 'image': 'https://lh3.googleusercontent.com/a-/ALV-UjWmPIKTcH8f6t6r9zPvwyyn8KeGFz-9vAK36i3pOvnhsa1_N9I=w72-h72-p-rp-mo-br100', 'text': 'Indulge in pure bliss as skilled hands work their magic, melting away stress and tension. Best massage and I came continuously for 2 days. The opening hours is quite late, no more worries on massage after a late night shopping👍🏻 …', 'rating': 5}, {'name': 'Yanshu Cai', 'image': 'https://lh3.googleusercontent.com/a/ACg8ocL_C11s3ieOyovJt0RcI4jlqEivHk5XeNWNDhEhSzJVqWvrDw=w72-h72-p-rp-mo-br100', 'text': 'Very good services! Nice and make me feel very welcome!', 'rating': 5}, {'name': 'มยุรี เจริญเกียรติ', 'image': 'https://lh3.googleusercontent.com/a/ACg8ocLlQAyoCV5zVKQqbLBCVOqsRn7afnTkcun0yy7HOoQZSIOGJQ=w72-h72-p-rp-mo-br100', 'text': 'The shop is very clean. The employees are polite and polite.', 'rating': 5}, {'name': 'บัณฑิตา สุจันทา', 'image': 'https://lh3.googleusercontent.com/a-/ALV-UjX2qIOTieQioonik6bUGXQY82IFxid8rYDmIIyOHGqla55q6OhR=w72-h72-p-rp-mo-br100', 'text': 'The atmosphere of the shop looks clean, the office service is very good.', 'rating': 5}, {'name': 'Das Aggil', 'image': 'https://lh3.googleusercontent.com/a/ACg8ocJ2LxprlPug6tUT1nuishUgTeQ0nXoNK2akFsvnGmYbnnt23A=w72-h72-p-rp-mo-br100', 'text': 'Excellent massage in Tong Lor. clean shop, very friendly, knowledgeable staff and helpful english speaking management that will guide you for the best experience. The therapist really helped with my muscle and joints pain', 'rating': 5}, {'name': 'สุทัตตา ภูมิดิษฐ์', 'image': 'https://lh3.googleusercontent.com/a/ACg8ocKU05uF57n6Ee6Cy1DFtJQwZAjVEMZ1xouL3_KygD6NKLXWXw=w72-h72-p-rp-mo-br100', 'text': 'The staff are lovely, attentive, and take good care of you.\\nThe herbal compresses at the shop are very fragrant.\\nAfter the massage I feel relieved. Recommend.', 'rating': 5}, {'name': 'Michel Martin Keis', 'image': 'https://lh3.googleusercontent.com/a/ACg8ocLJRyiCdnk1A5CGv1dqy0lxA7FVR-QLl_Nya96aitFOFbYVaQ=w72-h72-p-rp-mo-br100', 'text': 'Had a frozen shoulder. Booked 1 hour of massage. Very skillfull masseuse, the shoulder pain has gone away. Great shop, very professional and attentative.', 'rating': 5}, {'name': 'Kate P', 'image': 'https://lh3.googleusercontent.com/a-/ALV-UjVTb0KYMrkvFb_yteIcKvh2ykxJEzA3tio212QfbH4zhaWbrdAj=w72-h72-p-rp-mo-br100', 'text': 'Great massage and very nice service', 'rating': 5}, {'name': 'พุทธชาติ แสนสุด', 'image': 'https://lh3.googleusercontent.com/a-/ALV-UjXzZFyaD1wrCoRPkDa38wqhx2Iomgy_xmzDKW9Tn41Qddqq_qlh=w72-h72-p-rp-mo-br100', 'text': 'Very good service', 'rating': 5}, {'name': '林依潔', 'image': 'https://lh3.googleusercontent.com/a-/ALV-UjXkeYbLQqLRvn3h_mNxTfhMhNsvtZj41o9ovfFQOJ94CA0Gdwe4vA=w72-h72-p-rp-mo-ba2-br100', 'text': 'At 23:30 in the evening, they were willing to let us choose a 90-minute massage plan. The reception staff were friendly, played the sound of running water, and it was very quiet during the massage. We would not listen to them chatting all the time ☺️ You can have a good rest and relax! The key point is to press it very carefully! Put it on your pocket list for next time ❤️❤️❤️', 'rating': 5}, {'name': 'C C', 'image': 'https://lh3.googleusercontent.com/a-/ALV-UjV-OpN_r3KyrBHucXK_LWGRwpX1AN4LasMvUe3WEkLlBjhdT2ea=w72-h72-p-rp-mo-ba3-br100', 'text': \"The background music is light music, matched with the sound of running water next to it\\nThe overall environment is quiet and relaxing\\n\\nWhat I did this time was a foot massage. The massage area included the soles of the feet, calves, and the lower half of the thighs.\\nThe strength won't hurt, it's just right\\nOverall, I am very satisfied and would like to come again next time I come to Bangkok!\", 'rating': 5}, {'name': '妳的美業導師小榛老師', 'image': 'https://lh3.googleusercontent.com/a-/ALV-UjXBAn6KDQ58SRSlsslIlzz4i6Iv5x-iNJvbkrG4K38UxQi5NWMRsg=w72-h72-p-rp-mo-br100', 'text': 'The massage was very good and the service staff was very kind. It was quiet and there was no chatting during the process. The five of us were very satisfied with the massage.', 'rating': 5}, {'name': 'JY Kim', 'image': 'https://lh3.googleusercontent.com/a-/ALV-UjUiGNECRFwGRiLgZn0SpCCvMwPnZ18i_9rk2LdgPRsKQzmQfqs=w72-h72-p-rp-mo-br100', 'text': 'To really ask for more quality than this at this price,\\nOf course, the massage is up to the masseuse.\\nThe room was clean and the massage was among the best during my first trip to Thailand.\\nI was satisfied enough to be chosen!\\n(Beware of acupuncture points being massaged)', 'rating': 5}]\n"
     ]
    }
   ],
   "source": [
    "# Get page source and parse it with BeautifulSoup\n",
    "page_source = driver.page_source\n",
    "soup = BeautifulSoup(page_source, 'html.parser')\n",
    "\n",
    "# Extract reviews and their star ratings\n",
    "reviews_data = []\n",
    "reviews = soup.find_all('div', class_='jftiEf')\n",
    "\n",
    "for review in reviews:\n",
    "    # Extract review text\n",
    "    review_text_element = review.find('span', class_='wiI7pd')\n",
    "    review_text = review_text_element.text if review_text_element else ''\n",
    "    \n",
    "    star_element = review.find('span', class_='kvMYJc')\n",
    "    star_rating = int(star_element['aria-label'][0]) if star_element else 0\n",
    "    \n",
    "    # Get the reviewer's name\n",
    "    name_element = review.find('div', class_='d4r55')\n",
    "    reviewer_name = name_element.text if name_element else 'Anonymous'\n",
    "    \n",
    "    # Get the reviewer's profile image\n",
    "    image_element = review.find('img', class_='NBa7we')\n",
    "    reviewer_image = image_element['src'] if image_element else None\n",
    "    \n",
    "    # Store review, name, rating, and image\n",
    "    reviews_data.append({\n",
    "        'name': reviewer_name,\n",
    "        'image': reviewer_image,\n",
    "        'text': review_text,\n",
    "        'rating': star_rating\n",
    "    })\n",
    "\n",
    "# Sort reviews by star rating (descending order: highest rating first)\n",
    "# sorted_reviews = sorted(reviews_data, key=lambda x: x['rating'], reverse=True)\n",
    "sorted_reviews = reviews_data[:20]\n"
   ]
  },
  {
   "cell_type": "code",
   "execution_count": 122,
   "metadata": {},
   "outputs": [
    {
     "name": "stdout",
     "output_type": "stream",
     "text": [
      "Review 0:\n",
      "Name: Hee Kim\n",
      "Image: https://lh3.googleusercontent.com/a/ACg8ocLErUHBRJuZBZvvV_BQXofR3ClcdvyPCiw7SQqqioNJ2vtFSg=w72-h72-p-rp-mo-ba4-br100\n",
      "Rating: 5\n",
      "Text: Good massage at a decent store. The only thing that can be improved is washing feet before massage.\n",
      "Due to not washing my feet ahead of starting the massage, I felt a little bit uncomfortable(non-hygenic) during massage time.\n",
      "\n",
      "Review 1:\n",
      "Name: Noah Perry\n",
      "Image: https://lh3.googleusercontent.com/a/ACg8ocJ1o04O5zkEm6QQErp39v-p1HURivAA2dkiofEeUYlylyI9FQ=w72-h72-p-rp-mo-br100\n",
      "Rating: 5\n",
      "Text: Super nice massage place. Decent price (about 50 baht over average- but it’s 1000% worth it). You don’t really hear the noise of the busy road and you have privacy curtains, so u can relax without feeling like everyone’s staring at u. If you are looking for a relaxing foot, back, or full body massage this is the place!\n",
      "\n",
      "Review 2:\n",
      "Name: W L\n",
      "Image: https://lh3.googleusercontent.com/a/ACg8ocJt9YOpadJUeiDJ6JARfI809xA0pCoTVXN1SvJaLTou5lKQyH8=w72-h72-p-rp-mo-br100\n",
      "Rating: 5\n",
      "Text: Highly recommended !\n",
      "\n",
      "We have visited this shop 3 times in our trip .It is a clean and comfortable massage shop in thong lor. The staff are very nice and professional especially KAI and LINLY. ❤️ They help me and my mum relieve our muscle pain . Will come back next time :)\n",
      "\n",
      "Review 3:\n",
      "Name: Pantip W.\n",
      "Image: https://lh3.googleusercontent.com/a/ACg8ocK2HoqZsXQOv2n-Q_KcY6Z3EBpqley-6vwicBwUQm5YRtChxOQ=w72-h72-p-rp-mo-br100\n",
      "Rating: 5\n",
      "Text: P'Pudda and P'Wilai massaged very well. They massaged to the point. When massaging, it hurt because it was in the tight spot. The massage after the massage was very comfortable. I come for a massage almost every week after exercising.\n",
      "\n",
      "Review 4:\n",
      "Name: ปัทมา ไม่หวั่น\n",
      "Image: https://lh3.googleusercontent.com/a/ACg8ocLqppjDT8YqZ73osx4lCd9DiBg4eKIUnhuKDyGVgPmlKfzR0Q=w72-h72-p-rp-mo-br100\n",
      "Rating: 5\n",
      "Text: The shop is clean and the doctor is cute, gives good massage and gives good advice. If I have free time, I will come to massage again.\n",
      "\n",
      "Review 5:\n",
      "Name: Jonathan\n",
      "Image: https://lh3.googleusercontent.com/a-/ALV-UjVUp3JyyyfZFvtEp4YmG59NkBDkC9WDlCLlKipSKQPXzSrBurep=w72-h72-p-rp-mo-ba4-br100\n",
      "Rating: 5\n",
      "Text: Did foot massage for my first visit and Aromatherapy for my second visit. Good deal as it has promotion offers if you book online!\n",
      "Shopkeeper and staffs are friendly and welcoming.\n",
      "\n",
      "Review 6:\n",
      "Name: Kalajah567 Tsang\n",
      "Image: https://lh3.googleusercontent.com/a/ACg8ocIEl7fbSfB2WK0YZJSE0H5VEkM6zXg4AedpVBdhv_EAeZJivg=w72-h72-p-rp-mo-ba3-br100\n",
      "Rating: 5\n",
      "Text: I been here twice,first time with mu husband we had foot massage (It was great, very relaxing great super nice staff) and second time I been myself and had neck shoulders and back massage and again it was great! Top standard,  place looks little bit run down but staff is highly capable and professional very good with their job, great prices I would say under priced for level of massage you getting from these lovely ladies 🥰🥰👌👌\n",
      "\n",
      "Review 7:\n",
      "Name: Joanne Ong\n",
      "Image: https://lh3.googleusercontent.com/a-/ALV-UjWmPIKTcH8f6t6r9zPvwyyn8KeGFz-9vAK36i3pOvnhsa1_N9I=w72-h72-p-rp-mo-br100\n",
      "Rating: 5\n",
      "Text: Indulge in pure bliss as skilled hands work their magic, melting away stress and tension. Best massage and I came continuously for 2 days. The opening hours is quite late, no more worries on massage after a late night shopping👍🏻 …\n",
      "\n",
      "Review 8:\n",
      "Name: Yanshu Cai\n",
      "Image: https://lh3.googleusercontent.com/a/ACg8ocL_C11s3ieOyovJt0RcI4jlqEivHk5XeNWNDhEhSzJVqWvrDw=w72-h72-p-rp-mo-br100\n",
      "Rating: 5\n",
      "Text: Very good services! Nice and make me feel very welcome!\n",
      "\n",
      "Review 9:\n",
      "Name: มยุรี เจริญเกียรติ\n",
      "Image: https://lh3.googleusercontent.com/a/ACg8ocLlQAyoCV5zVKQqbLBCVOqsRn7afnTkcun0yy7HOoQZSIOGJQ=w72-h72-p-rp-mo-br100\n",
      "Rating: 5\n",
      "Text: The shop is very clean. The employees are polite and polite.\n",
      "\n"
     ]
    }
   ],
   "source": [
    "# Print the sorted reviews\n",
    "for i, review in enumerate(sorted_reviews[:10]):\n",
    "    print(f\"Review {i}:\")\n",
    "    print(f\"Name: {review['name']}\")\n",
    "    print(f\"Image: {review['image']}\")\n",
    "    print(f\"Rating: {review['rating']}\")\n",
    "    print(f\"Text: {review['text']}\\n\")\n",
    "\n",
    "# Close the browser\n",
    "# driver.quit()"
   ]
  },
  {
   "cell_type": "code",
   "execution_count": 123,
   "metadata": {},
   "outputs": [
    {
     "name": "stdout",
     "output_type": "stream",
     "text": [
      "Data has been exported to 'reviews_output.txt'\n"
     ]
    }
   ],
   "source": [
    "with open('reviews_output.txt', 'w', encoding='utf-8') as file:\n",
    "    for i, review in enumerate(sorted_reviews):\n",
    "        file.write(f\"Review {i}:\\n\")\n",
    "        file.write(f\"Name: {review['name']}\\n\")\n",
    "        file.write(f\"Image: {review['image']}\\n\")\n",
    "        file.write(f\"Rating: {review['rating']}\\n\")\n",
    "        file.write(f\"Text: {review['text']}\\n\\n\")\n",
    "\n",
    "print(\"Data has been exported to 'reviews_output.txt'\")"
   ]
  }
 ],
 "metadata": {
  "kernelspec": {
   "display_name": "Python 3",
   "language": "python",
   "name": "python3"
  },
  "language_info": {
   "codemirror_mode": {
    "name": "ipython",
    "version": 3
   },
   "file_extension": ".py",
   "mimetype": "text/x-python",
   "name": "python",
   "nbconvert_exporter": "python",
   "pygments_lexer": "ipython3",
   "version": "3.11.1"
  }
 },
 "nbformat": 4,
 "nbformat_minor": 2
}
